{
 "cells": [
  {
   "cell_type": "code",
   "execution_count": 235,
   "id": "c4bb2580",
   "metadata": {},
   "outputs": [],
   "source": [
    "import pandas as pd\n",
    "import numpy as np\n",
    "import matplotlib.pyplot as plt\n",
    "from scipy.optimize import curve_fit"
   ]
  },
  {
   "cell_type": "code",
   "execution_count": 268,
   "id": "7760f52e",
   "metadata": {},
   "outputs": [
    {
     "ename": "IndexError",
     "evalue": "positional indexers are out-of-bounds",
     "output_type": "error",
     "traceback": [
      "\u001b[1;31m-----------------------------------------------------------------\u001b[0m",
      "\u001b[1;31mIndexError\u001b[0m                      Traceback (most recent call last)",
      "Input \u001b[1;32mIn [268]\u001b[0m, in \u001b[0;36m<cell line: 2>\u001b[1;34m()\u001b[0m\n\u001b[0;32m      1\u001b[0m withRL \u001b[38;5;241m=\u001b[39m pd\u001b[38;5;241m.\u001b[39mread_csv(\u001b[38;5;124m\"\u001b[39m\u001b[38;5;124m./log-output-rl-1668656658.0529313 (1).csv\u001b[39m\u001b[38;5;124m\"\u001b[39m,sep\u001b[38;5;241m=\u001b[39m\u001b[38;5;124m'\u001b[39m\u001b[38;5;124m;\u001b[39m\u001b[38;5;124m'\u001b[39m)\n\u001b[1;32m----> 2\u001b[0m withRL \u001b[38;5;241m=\u001b[39m \u001b[43mwithRL\u001b[49m\u001b[38;5;241;43m.\u001b[39;49m\u001b[43miloc\u001b[49m\u001b[43m[\u001b[49m\u001b[43m:\u001b[49m\u001b[43m,\u001b[49m\u001b[43m[\u001b[49m\u001b[38;5;241;43m-\u001b[39;49m\u001b[38;5;241;43m3\u001b[39;49m\u001b[43m,\u001b[49m\u001b[38;5;241;43m-\u001b[39;49m\u001b[38;5;241;43m4\u001b[39;49m\u001b[43m]\u001b[49m\u001b[43m]\u001b[49m\n",
      "File \u001b[1;32m~\\AppData\\Local\\Packages\\PythonSoftwareFoundation.Python.3.10_qbz5n2kfra8p0\\LocalCache\\local-packages\\Python310\\site-packages\\pandas\\core\\indexing.py:961\u001b[0m, in \u001b[0;36m_LocationIndexer.__getitem__\u001b[1;34m(self, key)\u001b[0m\n\u001b[0;32m    959\u001b[0m     \u001b[38;5;28;01mif\u001b[39;00m \u001b[38;5;28mself\u001b[39m\u001b[38;5;241m.\u001b[39m_is_scalar_access(key):\n\u001b[0;32m    960\u001b[0m         \u001b[38;5;28;01mreturn\u001b[39;00m \u001b[38;5;28mself\u001b[39m\u001b[38;5;241m.\u001b[39mobj\u001b[38;5;241m.\u001b[39m_get_value(\u001b[38;5;241m*\u001b[39mkey, takeable\u001b[38;5;241m=\u001b[39m\u001b[38;5;28mself\u001b[39m\u001b[38;5;241m.\u001b[39m_takeable)\n\u001b[1;32m--> 961\u001b[0m     \u001b[38;5;28;01mreturn\u001b[39;00m \u001b[38;5;28;43mself\u001b[39;49m\u001b[38;5;241;43m.\u001b[39;49m\u001b[43m_getitem_tuple\u001b[49m\u001b[43m(\u001b[49m\u001b[43mkey\u001b[49m\u001b[43m)\u001b[49m\n\u001b[0;32m    962\u001b[0m \u001b[38;5;28;01melse\u001b[39;00m:\n\u001b[0;32m    963\u001b[0m     \u001b[38;5;66;03m# we by definition only have the 0th axis\u001b[39;00m\n\u001b[0;32m    964\u001b[0m     axis \u001b[38;5;241m=\u001b[39m \u001b[38;5;28mself\u001b[39m\u001b[38;5;241m.\u001b[39maxis \u001b[38;5;129;01mor\u001b[39;00m \u001b[38;5;241m0\u001b[39m\n",
      "File \u001b[1;32m~\\AppData\\Local\\Packages\\PythonSoftwareFoundation.Python.3.10_qbz5n2kfra8p0\\LocalCache\\local-packages\\Python310\\site-packages\\pandas\\core\\indexing.py:1458\u001b[0m, in \u001b[0;36m_iLocIndexer._getitem_tuple\u001b[1;34m(self, tup)\u001b[0m\n\u001b[0;32m   1456\u001b[0m \u001b[38;5;28;01mdef\u001b[39;00m \u001b[38;5;21m_getitem_tuple\u001b[39m(\u001b[38;5;28mself\u001b[39m, tup: \u001b[38;5;28mtuple\u001b[39m):\n\u001b[1;32m-> 1458\u001b[0m     tup \u001b[38;5;241m=\u001b[39m \u001b[38;5;28;43mself\u001b[39;49m\u001b[38;5;241;43m.\u001b[39;49m\u001b[43m_validate_tuple_indexer\u001b[49m\u001b[43m(\u001b[49m\u001b[43mtup\u001b[49m\u001b[43m)\u001b[49m\n\u001b[0;32m   1459\u001b[0m     \u001b[38;5;28;01mwith\u001b[39;00m suppress(IndexingError):\n\u001b[0;32m   1460\u001b[0m         \u001b[38;5;28;01mreturn\u001b[39;00m \u001b[38;5;28mself\u001b[39m\u001b[38;5;241m.\u001b[39m_getitem_lowerdim(tup)\n",
      "File \u001b[1;32m~\\AppData\\Local\\Packages\\PythonSoftwareFoundation.Python.3.10_qbz5n2kfra8p0\\LocalCache\\local-packages\\Python310\\site-packages\\pandas\\core\\indexing.py:769\u001b[0m, in \u001b[0;36m_LocationIndexer._validate_tuple_indexer\u001b[1;34m(self, key)\u001b[0m\n\u001b[0;32m    767\u001b[0m \u001b[38;5;28;01mfor\u001b[39;00m i, k \u001b[38;5;129;01min\u001b[39;00m \u001b[38;5;28menumerate\u001b[39m(key):\n\u001b[0;32m    768\u001b[0m     \u001b[38;5;28;01mtry\u001b[39;00m:\n\u001b[1;32m--> 769\u001b[0m         \u001b[38;5;28;43mself\u001b[39;49m\u001b[38;5;241;43m.\u001b[39;49m\u001b[43m_validate_key\u001b[49m\u001b[43m(\u001b[49m\u001b[43mk\u001b[49m\u001b[43m,\u001b[49m\u001b[43m \u001b[49m\u001b[43mi\u001b[49m\u001b[43m)\u001b[49m\n\u001b[0;32m    770\u001b[0m     \u001b[38;5;28;01mexcept\u001b[39;00m \u001b[38;5;167;01mValueError\u001b[39;00m \u001b[38;5;28;01mas\u001b[39;00m err:\n\u001b[0;32m    771\u001b[0m         \u001b[38;5;28;01mraise\u001b[39;00m \u001b[38;5;167;01mValueError\u001b[39;00m(\n\u001b[0;32m    772\u001b[0m             \u001b[38;5;124m\"\u001b[39m\u001b[38;5;124mLocation based indexing can only have \u001b[39m\u001b[38;5;124m\"\u001b[39m\n\u001b[0;32m    773\u001b[0m             \u001b[38;5;124mf\u001b[39m\u001b[38;5;124m\"\u001b[39m\u001b[38;5;124m[\u001b[39m\u001b[38;5;132;01m{\u001b[39;00m\u001b[38;5;28mself\u001b[39m\u001b[38;5;241m.\u001b[39m_valid_types\u001b[38;5;132;01m}\u001b[39;00m\u001b[38;5;124m] types\u001b[39m\u001b[38;5;124m\"\u001b[39m\n\u001b[0;32m    774\u001b[0m         ) \u001b[38;5;28;01mfrom\u001b[39;00m \u001b[38;5;21;01merr\u001b[39;00m\n",
      "File \u001b[1;32m~\\AppData\\Local\\Packages\\PythonSoftwareFoundation.Python.3.10_qbz5n2kfra8p0\\LocalCache\\local-packages\\Python310\\site-packages\\pandas\\core\\indexing.py:1376\u001b[0m, in \u001b[0;36m_iLocIndexer._validate_key\u001b[1;34m(self, key, axis)\u001b[0m\n\u001b[0;32m   1374\u001b[0m     \u001b[38;5;66;03m# check that the key does not exceed the maximum size of the index\u001b[39;00m\n\u001b[0;32m   1375\u001b[0m     \u001b[38;5;28;01mif\u001b[39;00m \u001b[38;5;28mlen\u001b[39m(arr) \u001b[38;5;129;01mand\u001b[39;00m (arr\u001b[38;5;241m.\u001b[39mmax() \u001b[38;5;241m>\u001b[39m\u001b[38;5;241m=\u001b[39m len_axis \u001b[38;5;129;01mor\u001b[39;00m arr\u001b[38;5;241m.\u001b[39mmin() \u001b[38;5;241m<\u001b[39m \u001b[38;5;241m-\u001b[39mlen_axis):\n\u001b[1;32m-> 1376\u001b[0m         \u001b[38;5;28;01mraise\u001b[39;00m \u001b[38;5;167;01mIndexError\u001b[39;00m(\u001b[38;5;124m\"\u001b[39m\u001b[38;5;124mpositional indexers are out-of-bounds\u001b[39m\u001b[38;5;124m\"\u001b[39m)\n\u001b[0;32m   1377\u001b[0m \u001b[38;5;28;01melse\u001b[39;00m:\n\u001b[0;32m   1378\u001b[0m     \u001b[38;5;28;01mraise\u001b[39;00m \u001b[38;5;167;01mValueError\u001b[39;00m(\u001b[38;5;124mf\u001b[39m\u001b[38;5;124m\"\u001b[39m\u001b[38;5;124mCan only index by location with a [\u001b[39m\u001b[38;5;132;01m{\u001b[39;00m\u001b[38;5;28mself\u001b[39m\u001b[38;5;241m.\u001b[39m_valid_types\u001b[38;5;132;01m}\u001b[39;00m\u001b[38;5;124m]\u001b[39m\u001b[38;5;124m\"\u001b[39m)\n",
      "\u001b[1;31mIndexError\u001b[0m: positional indexers are out-of-bounds"
     ]
    }
   ],
   "source": [
    "withRL = pd.read_csv(\"\")\n",
    "withRL = pd.read_csv(\"\",sep=';')\n",
    "withRL = withRL.iloc[:,[-3,-4]]\n"
   ]
  },
  {
   "cell_type": "code",
   "execution_count": 237,
   "id": "b9dd1610",
   "metadata": {},
   "outputs": [],
   "source": [
    "withRL['SD'] = 0\n"
   ]
  },
  {
   "cell_type": "code",
   "execution_count": 238,
   "id": "ec9f6d2b",
   "metadata": {
    "scrolled": true
   },
   "outputs": [
    {
     "data": {
      "text/html": [
       "<div>\n",
       "<style scoped>\n",
       "    .dataframe tbody tr th:only-of-type {\n",
       "        vertical-align: middle;\n",
       "    }\n",
       "\n",
       "    .dataframe tbody tr th {\n",
       "        vertical-align: top;\n",
       "    }\n",
       "\n",
       "    .dataframe thead th {\n",
       "        text-align: right;\n",
       "    }\n",
       "</style>\n",
       "<table border=\"1\" class=\"dataframe\">\n",
       "  <thead>\n",
       "    <tr style=\"text-align: right;\">\n",
       "      <th></th>\n",
       "      <th>interval_nVehSeen</th>\n",
       "      <th>interval_nVehLeft</th>\n",
       "      <th>SD</th>\n",
       "    </tr>\n",
       "  </thead>\n",
       "  <tbody>\n",
       "    <tr>\n",
       "      <th>0</th>\n",
       "      <td>5</td>\n",
       "      <td>0</td>\n",
       "      <td>0</td>\n",
       "    </tr>\n",
       "    <tr>\n",
       "      <th>1</th>\n",
       "      <td>4</td>\n",
       "      <td>3</td>\n",
       "      <td>0</td>\n",
       "    </tr>\n",
       "    <tr>\n",
       "      <th>2</th>\n",
       "      <td>2</td>\n",
       "      <td>2</td>\n",
       "      <td>0</td>\n",
       "    </tr>\n",
       "    <tr>\n",
       "      <th>3</th>\n",
       "      <td>5</td>\n",
       "      <td>1</td>\n",
       "      <td>0</td>\n",
       "    </tr>\n",
       "    <tr>\n",
       "      <th>4</th>\n",
       "      <td>5</td>\n",
       "      <td>4</td>\n",
       "      <td>0</td>\n",
       "    </tr>\n",
       "  </tbody>\n",
       "</table>\n",
       "</div>"
      ],
      "text/plain": [
       "   interval_nVehSeen  interval_nVehLeft  SD\n",
       "0                  5                  0   0\n",
       "1                  4                  3   0\n",
       "2                  2                  2   0\n",
       "3                  5                  1   0\n",
       "4                  5                  4   0"
      ]
     },
     "execution_count": 238,
     "metadata": {},
     "output_type": "execute_result"
    }
   ],
   "source": [
    "withRL.head()"
   ]
  },
  {
   "cell_type": "code",
   "execution_count": 239,
   "id": "d32ae0a3",
   "metadata": {},
   "outputs": [],
   "source": [
    " for i in range(int(len(withRL.loc[:,\"interval_nVehSeen\"])/12)):\n",
    "    temp = withRL['interval_nVehSeen'][i*12:(i*12)+12]\n",
    "    withRL['SD'][i]=np.std(temp)\n",
    "#     /np.mean(temp)\n",
    "    "
   ]
  },
  {
   "cell_type": "code",
   "execution_count": 240,
   "id": "68aedb39",
   "metadata": {},
   "outputs": [],
   "source": [
    "withRL['leftPercentage'] = 0"
   ]
  },
  {
   "cell_type": "code",
   "execution_count": 241,
   "id": "e6265829",
   "metadata": {
    "scrolled": false
   },
   "outputs": [
    {
     "name": "stderr",
     "output_type": "stream",
     "text": [
      "C:\\Users\\sunny\\AppData\\Local\\Temp\\ipykernel_9648\\3616633080.py:4: SettingWithCopyWarning: \n",
      "A value is trying to be set on a copy of a slice from a DataFrame\n",
      "\n",
      "See the caveats in the documentation: https://pandas.pydata.org/pandas-docs/stable/user_guide/indexing.html#returning-a-view-versus-a-copy\n",
      "  withRL['leftPercentage'][j]=left/seen\n"
     ]
    }
   ],
   "source": [
    " for j in range(int(len(withRL.loc[:,\"interval_nVehSeen\"])/12)):\n",
    "    seen = np.sum(withRL['interval_nVehSeen'][j*12:(j*12)+12])\n",
    "    left = np.sum(withRL['interval_nVehLeft'][j*12:(j*12)+12])\n",
    "    withRL['leftPercentage'][j]=left/seen\n"
   ]
  },
  {
   "cell_type": "code",
   "execution_count": 242,
   "id": "f1e424b4",
   "metadata": {
    "scrolled": true
   },
   "outputs": [],
   "source": [
    "withRL= withRL.iloc[:int(len(withRL.loc[:,\"leftPercentage\"])/12),[-1,-2]]"
   ]
  },
  {
   "cell_type": "code",
   "execution_count": 243,
   "id": "8f737221",
   "metadata": {},
   "outputs": [],
   "source": [
    "for j in range(int(len(withRL.loc[:,\"leftPercentage\"])/12)):\n",
    "    withRL['leftPercentage'][j]=(left/seen)\n"
   ]
  },
  {
   "cell_type": "code",
   "execution_count": 244,
   "id": "9d07c5d5",
   "metadata": {
    "scrolled": true
   },
   "outputs": [
    {
     "data": {
      "text/html": [
       "<div>\n",
       "<style scoped>\n",
       "    .dataframe tbody tr th:only-of-type {\n",
       "        vertical-align: middle;\n",
       "    }\n",
       "\n",
       "    .dataframe tbody tr th {\n",
       "        vertical-align: top;\n",
       "    }\n",
       "\n",
       "    .dataframe thead th {\n",
       "        text-align: right;\n",
       "    }\n",
       "</style>\n",
       "<table border=\"1\" class=\"dataframe\">\n",
       "  <thead>\n",
       "    <tr style=\"text-align: right;\">\n",
       "      <th></th>\n",
       "      <th>leftPercentage</th>\n",
       "      <th>SD</th>\n",
       "    </tr>\n",
       "  </thead>\n",
       "  <tbody>\n",
       "    <tr>\n",
       "      <th>1</th>\n",
       "      <td>0.477273</td>\n",
       "      <td>2.947457</td>\n",
       "    </tr>\n",
       "    <tr>\n",
       "      <th>2</th>\n",
       "      <td>0.477273</td>\n",
       "      <td>3.894440</td>\n",
       "    </tr>\n",
       "    <tr>\n",
       "      <th>3</th>\n",
       "      <td>0.477273</td>\n",
       "      <td>3.118048</td>\n",
       "    </tr>\n",
       "    <tr>\n",
       "      <th>4</th>\n",
       "      <td>0.477273</td>\n",
       "      <td>3.243583</td>\n",
       "    </tr>\n",
       "    <tr>\n",
       "      <th>5</th>\n",
       "      <td>0.477273</td>\n",
       "      <td>2.823512</td>\n",
       "    </tr>\n",
       "    <tr>\n",
       "      <th>...</th>\n",
       "      <td>...</td>\n",
       "      <td>...</td>\n",
       "    </tr>\n",
       "    <tr>\n",
       "      <th>1246</th>\n",
       "      <td>0.520000</td>\n",
       "      <td>3.064129</td>\n",
       "    </tr>\n",
       "    <tr>\n",
       "      <th>1247</th>\n",
       "      <td>0.541667</td>\n",
       "      <td>3.341656</td>\n",
       "    </tr>\n",
       "    <tr>\n",
       "      <th>1248</th>\n",
       "      <td>0.543478</td>\n",
       "      <td>3.566822</td>\n",
       "    </tr>\n",
       "    <tr>\n",
       "      <th>1249</th>\n",
       "      <td>0.505882</td>\n",
       "      <td>3.817904</td>\n",
       "    </tr>\n",
       "    <tr>\n",
       "      <th>1250</th>\n",
       "      <td>0.477273</td>\n",
       "      <td>3.566822</td>\n",
       "    </tr>\n",
       "  </tbody>\n",
       "</table>\n",
       "<p>1250 rows × 2 columns</p>\n",
       "</div>"
      ],
      "text/plain": [
       "      leftPercentage        SD\n",
       "1           0.477273  2.947457\n",
       "2           0.477273  3.894440\n",
       "3           0.477273  3.118048\n",
       "4           0.477273  3.243583\n",
       "5           0.477273  2.823512\n",
       "...              ...       ...\n",
       "1246        0.520000  3.064129\n",
       "1247        0.541667  3.341656\n",
       "1248        0.543478  3.566822\n",
       "1249        0.505882  3.817904\n",
       "1250        0.477273  3.566822\n",
       "\n",
       "[1250 rows x 2 columns]"
      ]
     },
     "execution_count": 244,
     "metadata": {},
     "output_type": "execute_result"
    }
   ],
   "source": [
    "tempSD=withRL[\"SD\"]\n",
    "withRL[\"SD\"] = tempSD[1:]\n",
    "withRL = withRL.loc[1:,:]\n",
    "withRL"
   ]
  },
  {
   "cell_type": "code",
   "execution_count": 245,
   "id": "dce6e237",
   "metadata": {
    "scrolled": true
   },
   "outputs": [
    {
     "name": "stdout",
     "output_type": "stream",
     "text": [
      "         SD  leftPercentage\n",
      "0  1.699673        0.454545\n",
      "1  1.748015        0.510000\n",
      "2  1.753964        0.525773\n",
      "3  1.785357        0.525253\n",
      "4  1.795055        0.510870\n"
     ]
    }
   ],
   "source": [
    "withRL = withRL.groupby(by=\"SD\",level = None).mean().reset_index()\n",
    "print(withRL.head())"
   ]
  },
  {
   "cell_type": "code",
   "execution_count": 246,
   "id": "43986f94",
   "metadata": {
    "scrolled": true
   },
   "outputs": [
    {
     "data": {
      "text/plain": [
       "Text(0, 0.5, 'leftPercentage')"
      ]
     },
     "execution_count": 246,
     "metadata": {},
     "output_type": "execute_result"
    },
    {
     "data": {
      "image/png": "[encoded data removed]",
      "text/plain": [
       "<Figure size 640x480 with 1 Axes>"
      ]
     },
     "metadata": {},
     "output_type": "display_data"
    }
   ],
   "source": [
    "plt.scatter(withRL['SD'],withRL['leftPercentage'])\n",
    "plt.xlabel('SD')\n",
    "plt.ylabel('leftPercentage')"
   ]
  },
  {
   "cell_type": "code",
   "execution_count": 247,
   "id": "9ee02220",
   "metadata": {},
   "outputs": [],
   "source": [
    "withoutRL = pd.read_csv(\"./log-output-no-rl-1668660110.735033.csv\",sep=';')"
   ]
  },
  {
   "cell_type": "code",
   "execution_count": 248,
   "id": "4782a2dd",
   "metadata": {},
   "outputs": [],
   "source": [
    "withoutRL['SD'] = 0\n"
   ]
  },
  {
   "cell_type": "code",
   "execution_count": 249,
   "id": "a06f8c2c",
   "metadata": {
    "scrolled": true
   },
   "outputs": [
    {
     "data": {
      "text/html": [
       "<div>\n",
       "<style scoped>\n",
       "    .dataframe tbody tr th:only-of-type {\n",
       "        vertical-align: middle;\n",
       "    }\n",
       "\n",
       "    .dataframe tbody tr th {\n",
       "        vertical-align: top;\n",
       "    }\n",
       "\n",
       "    .dataframe thead th {\n",
       "        text-align: right;\n",
       "    }\n",
       "</style>\n",
       "<table border=\"1\" class=\"dataframe\">\n",
       "  <thead>\n",
       "    <tr style=\"text-align: right;\">\n",
       "      <th></th>\n",
       "      <th>interval_begin</th>\n",
       "      <th>interval_end</th>\n",
       "      <th>interval_haltingDurationSum</th>\n",
       "      <th>interval_id</th>\n",
       "      <th>interval_intervalHaltingDurationSum</th>\n",
       "      <th>interval_jamLengthInMetersSum</th>\n",
       "      <th>interval_jamLengthInVehiclesSum</th>\n",
       "      <th>interval_maxHaltingDuration</th>\n",
       "      <th>interval_maxIntervalHaltingDuration</th>\n",
       "      <th>interval_maxJamLengthInMeters</th>\n",
       "      <th>...</th>\n",
       "      <th>interval_meanOccupancy</th>\n",
       "      <th>interval_meanSpeed</th>\n",
       "      <th>interval_meanTimeLoss</th>\n",
       "      <th>interval_meanVehicleNumber</th>\n",
       "      <th>interval_nVehEntered</th>\n",
       "      <th>interval_nVehLeft</th>\n",
       "      <th>interval_nVehSeen</th>\n",
       "      <th>interval_sampledSeconds</th>\n",
       "      <th>interval_startedHalts</th>\n",
       "      <th>SD</th>\n",
       "    </tr>\n",
       "  </thead>\n",
       "  <tbody>\n",
       "    <tr>\n",
       "      <th>0</th>\n",
       "      <td>0.0</td>\n",
       "      <td>40.0</td>\n",
       "      <td>0.0</td>\n",
       "      <td>id_E0_0</td>\n",
       "      <td>0.0</td>\n",
       "      <td>0.0</td>\n",
       "      <td>0</td>\n",
       "      <td>0.0</td>\n",
       "      <td>0.0</td>\n",
       "      <td>0.0</td>\n",
       "      <td>...</td>\n",
       "      <td>0.79</td>\n",
       "      <td>12.68</td>\n",
       "      <td>1.77</td>\n",
       "      <td>2.20</td>\n",
       "      <td>5</td>\n",
       "      <td>0</td>\n",
       "      <td>5</td>\n",
       "      <td>88.0</td>\n",
       "      <td>0.0</td>\n",
       "      <td>0</td>\n",
       "    </tr>\n",
       "    <tr>\n",
       "      <th>1</th>\n",
       "      <td>0.0</td>\n",
       "      <td>40.0</td>\n",
       "      <td>0.0</td>\n",
       "      <td>id_E0_1</td>\n",
       "      <td>0.0</td>\n",
       "      <td>0.0</td>\n",
       "      <td>0</td>\n",
       "      <td>0.0</td>\n",
       "      <td>0.0</td>\n",
       "      <td>0.0</td>\n",
       "      <td>...</td>\n",
       "      <td>0.35</td>\n",
       "      <td>10.99</td>\n",
       "      <td>1.75</td>\n",
       "      <td>0.97</td>\n",
       "      <td>4</td>\n",
       "      <td>3</td>\n",
       "      <td>4</td>\n",
       "      <td>39.0</td>\n",
       "      <td>0.0</td>\n",
       "      <td>0</td>\n",
       "    </tr>\n",
       "    <tr>\n",
       "      <th>2</th>\n",
       "      <td>0.0</td>\n",
       "      <td>40.0</td>\n",
       "      <td>0.0</td>\n",
       "      <td>id_E0_2</td>\n",
       "      <td>0.0</td>\n",
       "      <td>0.0</td>\n",
       "      <td>0</td>\n",
       "      <td>0.0</td>\n",
       "      <td>0.0</td>\n",
       "      <td>0.0</td>\n",
       "      <td>...</td>\n",
       "      <td>0.20</td>\n",
       "      <td>9.96</td>\n",
       "      <td>3.05</td>\n",
       "      <td>0.55</td>\n",
       "      <td>2</td>\n",
       "      <td>2</td>\n",
       "      <td>2</td>\n",
       "      <td>22.0</td>\n",
       "      <td>0.0</td>\n",
       "      <td>0</td>\n",
       "    </tr>\n",
       "    <tr>\n",
       "      <th>3</th>\n",
       "      <td>0.0</td>\n",
       "      <td>40.0</td>\n",
       "      <td>0.0</td>\n",
       "      <td>id_-E1_0</td>\n",
       "      <td>0.0</td>\n",
       "      <td>0.0</td>\n",
       "      <td>0</td>\n",
       "      <td>0.0</td>\n",
       "      <td>0.0</td>\n",
       "      <td>0.0</td>\n",
       "      <td>...</td>\n",
       "      <td>1.02</td>\n",
       "      <td>11.97</td>\n",
       "      <td>2.05</td>\n",
       "      <td>2.23</td>\n",
       "      <td>5</td>\n",
       "      <td>1</td>\n",
       "      <td>5</td>\n",
       "      <td>89.0</td>\n",
       "      <td>0.0</td>\n",
       "      <td>0</td>\n",
       "    </tr>\n",
       "    <tr>\n",
       "      <th>4</th>\n",
       "      <td>0.0</td>\n",
       "      <td>40.0</td>\n",
       "      <td>0.0</td>\n",
       "      <td>id_-E1_1</td>\n",
       "      <td>0.0</td>\n",
       "      <td>0.0</td>\n",
       "      <td>0</td>\n",
       "      <td>0.0</td>\n",
       "      <td>0.0</td>\n",
       "      <td>0.0</td>\n",
       "      <td>...</td>\n",
       "      <td>0.52</td>\n",
       "      <td>11.70</td>\n",
       "      <td>1.30</td>\n",
       "      <td>1.12</td>\n",
       "      <td>5</td>\n",
       "      <td>4</td>\n",
       "      <td>5</td>\n",
       "      <td>45.0</td>\n",
       "      <td>0.0</td>\n",
       "      <td>0</td>\n",
       "    </tr>\n",
       "  </tbody>\n",
       "</table>\n",
       "<p>5 rows × 27 columns</p>\n",
       "</div>"
      ],
      "text/plain": [
       "   interval_begin  interval_end  interval_haltingDurationSum interval_id  \\\n",
       "0             0.0          40.0                          0.0     id_E0_0   \n",
       "1             0.0          40.0                          0.0     id_E0_1   \n",
       "2             0.0          40.0                          0.0     id_E0_2   \n",
       "3             0.0          40.0                          0.0    id_-E1_0   \n",
       "4             0.0          40.0                          0.0    id_-E1_1   \n",
       "\n",
       "   interval_intervalHaltingDurationSum  interval_jamLengthInMetersSum  \\\n",
       "0                                  0.0                            0.0   \n",
       "1                                  0.0                            0.0   \n",
       "2                                  0.0                            0.0   \n",
       "3                                  0.0                            0.0   \n",
       "4                                  0.0                            0.0   \n",
       "\n",
       "   interval_jamLengthInVehiclesSum  interval_maxHaltingDuration  \\\n",
       "0                                0                          0.0   \n",
       "1                                0                          0.0   \n",
       "2                                0                          0.0   \n",
       "3                                0                          0.0   \n",
       "4                                0                          0.0   \n",
       "\n",
       "   interval_maxIntervalHaltingDuration  interval_maxJamLengthInMeters  ...  \\\n",
       "0                                  0.0                            0.0  ...   \n",
       "1                                  0.0                            0.0  ...   \n",
       "2                                  0.0                            0.0  ...   \n",
       "3                                  0.0                            0.0  ...   \n",
       "4                                  0.0                            0.0  ...   \n",
       "\n",
       "   interval_meanOccupancy  interval_meanSpeed  interval_meanTimeLoss  \\\n",
       "0                    0.79               12.68                   1.77   \n",
       "1                    0.35               10.99                   1.75   \n",
       "2                    0.20                9.96                   3.05   \n",
       "3                    1.02               11.97                   2.05   \n",
       "4                    0.52               11.70                   1.30   \n",
       "\n",
       "   interval_meanVehicleNumber  interval_nVehEntered  interval_nVehLeft  \\\n",
       "0                        2.20                     5                  0   \n",
       "1                        0.97                     4                  3   \n",
       "2                        0.55                     2                  2   \n",
       "3                        2.23                     5                  1   \n",
       "4                        1.12                     5                  4   \n",
       "\n",
       "   interval_nVehSeen  interval_sampledSeconds  interval_startedHalts  SD  \n",
       "0                  5                     88.0                    0.0   0  \n",
       "1                  4                     39.0                    0.0   0  \n",
       "2                  2                     22.0                    0.0   0  \n",
       "3                  5                     89.0                    0.0   0  \n",
       "4                  5                     45.0                    0.0   0  \n",
       "\n",
       "[5 rows x 27 columns]"
      ]
     },
     "execution_count": 249,
     "metadata": {},
     "output_type": "execute_result"
    }
   ],
   "source": [
    "withoutRL.head()"
   ]
  },
  {
   "cell_type": "code",
   "execution_count": 250,
   "id": "366582cb",
   "metadata": {},
   "outputs": [
    {
     "name": "stderr",
     "output_type": "stream",
     "text": [
      "C:\\Users\\sunny\\AppData\\Local\\Temp\\ipykernel_9648\\4242772586.py:3: SettingWithCopyWarning: \n",
      "A value is trying to be set on a copy of a slice from a DataFrame\n",
      "\n",
      "See the caveats in the documentation: https://pandas.pydata.org/pandas-docs/stable/user_guide/indexing.html#returning-a-view-versus-a-copy\n",
      "  withoutRL['SD'][i]=np.std(temp)\n"
     ]
    }
   ],
   "source": [
    " for i in range(int(len(withoutRL.loc[:,\"interval_nVehSeen\"])/12)):\n",
    "    temp = withoutRL['interval_nVehSeen'][i*12:(i*12)+12]\n",
    "    withoutRL['SD'][i]=np.std(temp)\n",
    "#     /np.mean(temp)\n",
    "    "
   ]
  },
  {
   "cell_type": "code",
   "execution_count": 251,
   "id": "507bb47e",
   "metadata": {},
   "outputs": [],
   "source": [
    "withoutRL['leftPercentage'] = 0"
   ]
  },
  {
   "cell_type": "code",
   "execution_count": 252,
   "id": "505abf44",
   "metadata": {
    "scrolled": false
   },
   "outputs": [
    {
     "name": "stderr",
     "output_type": "stream",
     "text": [
      "C:\\Users\\sunny\\AppData\\Local\\Temp\\ipykernel_9648\\3186921145.py:4: SettingWithCopyWarning: \n",
      "A value is trying to be set on a copy of a slice from a DataFrame\n",
      "\n",
      "See the caveats in the documentation: https://pandas.pydata.org/pandas-docs/stable/user_guide/indexing.html#returning-a-view-versus-a-copy\n",
      "  withoutRL['leftPercentage'][j]=(left/seen)\n"
     ]
    }
   ],
   "source": [
    " for j in range(int(len(withoutRL.loc[:,\"interval_nVehSeen\"])/12)):\n",
    "    seen = np.sum(withoutRL['interval_nVehSeen'][j*12:(j*12)+12])\n",
    "    left = np.sum(withoutRL['interval_nVehLeft'][j*12:(j*12)+12])\n",
    "    withoutRL['leftPercentage'][j]=(left/seen)\n"
   ]
  },
  {
   "cell_type": "code",
   "execution_count": 253,
   "id": "ce6fc12f",
   "metadata": {
    "scrolled": true
   },
   "outputs": [],
   "source": [
    "withoutRL= withoutRL.iloc[:int(len(withoutRL.loc[:,\"leftPercentage\"])/12),[-1,-2]]"
   ]
  },
  {
   "cell_type": "code",
   "execution_count": 254,
   "id": "d36da6c6",
   "metadata": {},
   "outputs": [],
   "source": [
    "for j in range(int(len(withoutRL.loc[:,\"leftPercentage\"])/12)):\n",
    "    withoutRL['leftPercentage'][j]=left/seen\n"
   ]
  },
  {
   "cell_type": "code",
   "execution_count": 255,
   "id": "90b2b564",
   "metadata": {
    "scrolled": true
   },
   "outputs": [
    {
     "data": {
      "text/html": [
       "<div>\n",
       "<style scoped>\n",
       "    .dataframe tbody tr th:only-of-type {\n",
       "        vertical-align: middle;\n",
       "    }\n",
       "\n",
       "    .dataframe tbody tr th {\n",
       "        vertical-align: top;\n",
       "    }\n",
       "\n",
       "    .dataframe thead th {\n",
       "        text-align: right;\n",
       "    }\n",
       "</style>\n",
       "<table border=\"1\" class=\"dataframe\">\n",
       "  <thead>\n",
       "    <tr style=\"text-align: right;\">\n",
       "      <th></th>\n",
       "      <th>leftPercentage</th>\n",
       "      <th>SD</th>\n",
       "    </tr>\n",
       "  </thead>\n",
       "  <tbody>\n",
       "    <tr>\n",
       "      <th>1</th>\n",
       "      <td>0.523256</td>\n",
       "      <td>2.947457</td>\n",
       "    </tr>\n",
       "    <tr>\n",
       "      <th>2</th>\n",
       "      <td>0.523256</td>\n",
       "      <td>3.729574</td>\n",
       "    </tr>\n",
       "    <tr>\n",
       "      <th>3</th>\n",
       "      <td>0.523256</td>\n",
       "      <td>3.344772</td>\n",
       "    </tr>\n",
       "    <tr>\n",
       "      <th>4</th>\n",
       "      <td>0.523256</td>\n",
       "      <td>3.344772</td>\n",
       "    </tr>\n",
       "    <tr>\n",
       "      <th>5</th>\n",
       "      <td>0.523256</td>\n",
       "      <td>2.861381</td>\n",
       "    </tr>\n",
       "    <tr>\n",
       "      <th>...</th>\n",
       "      <td>...</td>\n",
       "      <td>...</td>\n",
       "    </tr>\n",
       "    <tr>\n",
       "      <th>1245</th>\n",
       "      <td>0.468750</td>\n",
       "      <td>3.391165</td>\n",
       "    </tr>\n",
       "    <tr>\n",
       "      <th>1246</th>\n",
       "      <td>0.524272</td>\n",
       "      <td>2.956866</td>\n",
       "    </tr>\n",
       "    <tr>\n",
       "      <th>1247</th>\n",
       "      <td>0.544554</td>\n",
       "      <td>3.328121</td>\n",
       "    </tr>\n",
       "    <tr>\n",
       "      <th>1248</th>\n",
       "      <td>0.538462</td>\n",
       "      <td>3.751851</td>\n",
       "    </tr>\n",
       "    <tr>\n",
       "      <th>1249</th>\n",
       "      <td>0.523256</td>\n",
       "      <td>3.578485</td>\n",
       "    </tr>\n",
       "  </tbody>\n",
       "</table>\n",
       "<p>1249 rows × 2 columns</p>\n",
       "</div>"
      ],
      "text/plain": [
       "      leftPercentage        SD\n",
       "1           0.523256  2.947457\n",
       "2           0.523256  3.729574\n",
       "3           0.523256  3.344772\n",
       "4           0.523256  3.344772\n",
       "5           0.523256  2.861381\n",
       "...              ...       ...\n",
       "1245        0.468750  3.391165\n",
       "1246        0.524272  2.956866\n",
       "1247        0.544554  3.328121\n",
       "1248        0.538462  3.751851\n",
       "1249        0.523256  3.578485\n",
       "\n",
       "[1249 rows x 2 columns]"
      ]
     },
     "execution_count": 255,
     "metadata": {},
     "output_type": "execute_result"
    }
   ],
   "source": [
    "tempSD=withoutRL[\"SD\"]\n",
    "withoutRL[\"SD\"] = tempSD[1:]\n",
    "withoutRL = withoutRL.loc[1:,:]\n",
    "withoutRL"
   ]
  },
  {
   "cell_type": "code",
   "execution_count": 261,
   "id": "313ff3ce",
   "metadata": {
    "scrolled": true
   },
   "outputs": [
    {
     "name": "stdout",
     "output_type": "stream",
     "text": [
      "           SD  leftPercentage\n",
      "0    1.433721        0.465909\n",
      "1    1.462494        0.510204\n",
      "2    1.552328        0.547368\n",
      "3    1.689428        0.494949\n",
      "4    1.831438        0.552381\n",
      "..        ...             ...\n",
      "580  4.751462        0.523256\n",
      "581  4.752192        0.549020\n",
      "582  4.873397        0.558824\n",
      "583  4.918079        0.585859\n",
      "584  5.280993        0.557692\n",
      "\n",
      "[585 rows x 2 columns]\n"
     ]
    }
   ],
   "source": [
    "withoutRL = withoutRL.groupby(by=\"SD\",level = None).mean().reset_index()\n",
    "print(withoutRL)"
   ]
  },
  {
   "cell_type": "code",
   "execution_count": 262,
   "id": "54efa0b1",
   "metadata": {
    "scrolled": true
   },
   "outputs": [
    {
     "data": {
      "text/plain": [
       "Text(0, 0.5, 'leftPercentage')"
      ]
     },
     "execution_count": 262,
     "metadata": {},
     "output_type": "execute_result"
    },
    {
     "data": {
      "image/png": "[encoded data removed]",
      "text/plain": [
       "<Figure size 640x480 with 1 Axes>"
      ]
     },
     "metadata": {},
     "output_type": "display_data"
    }
   ],
   "source": [
    "plt.scatter(withoutRL['SD'],withoutRL['leftPercentage'])\n",
    "plt.xlabel('SD')\n",
    "plt.ylabel('leftPercentage')"
   ]
  },
  {
   "cell_type": "code",
   "execution_count": 263,
   "id": "9ae5119e",
   "metadata": {},
   "outputs": [],
   "source": [
    "mwithRL,bwithRL = np.polyfit(withRL['SD'],withRL['leftPercentage'],1)\n",
    "mwithoutRL,bwithoutRL = np.polyfit(withoutRL['SD'],withoutRL['leftPercentage'],1)"
   ]
  },
  {
   "cell_type": "markdown",
   "id": "6a35c353",
   "metadata": {},
   "source": [
    "Ploting all the necessary graph to compare"
   ]
  },
  {
   "cell_type": "code",
   "execution_count": 264,
   "id": "4283328e",
   "metadata": {},
   "outputs": [
    {
     "data": {
      "text/plain": [
       "[<matplotlib.lines.Line2D at 0x2831631b820>]"
      ]
     },
     "execution_count": 264,
     "metadata": {},
     "output_type": "execute_result"
    },
    {
     "data": {
      "image/png": "[encoded data removed]",
      "text/plain": [
       "<Figure size 900x300 with 2 Axes>"
      ]
     },
     "metadata": {},
     "output_type": "display_data"
    }
   ],
   "source": [
    "plt.figure(figsize=(9,3))\n",
    "plt.subplot(131)\n",
    "plt.scatter(withRL['SD'],withRL['leftPercentage'],color=\"g\")\n",
    "plt.plot(withRL['SD'],mwithRL*withRL[\"SD\"]+bwithRL,color=\"b\")\n",
    "plt.subplot(132)\n",
    "plt.scatter(withoutRL['SD'],withoutRL['leftPercentage'],color=\"r\")\n",
    "plt.plot(withoutRL['SD'],mwithoutRL*withoutRL[\"SD\"]+bwithoutRL,color=\"b\")\n",
    "\n"
   ]
  },
  {
   "cell_type": "code",
   "execution_count": 265,
   "id": "b15e07ec",
   "metadata": {
    "scrolled": false
   },
   "outputs": [
    {
     "data": {
      "text/plain": [
       "[<matplotlib.lines.Line2D at 0x283163b0040>]"
      ]
     },
     "execution_count": 265,
     "metadata": {},
     "output_type": "execute_result"
    },
    {
     "data": {
      "image/png": "[encoded data removed]",
      "text/plain": [
       "<Figure size 640x480 with 1 Axes>"
      ]
     },
     "metadata": {},
     "output_type": "display_data"
    }
   ],
   "source": [
    "plt.plot(withRL['SD'],mwithRL*withRL[\"SD\"]+bwithRL,color=\"b\")\n",
    "plt.plot(withoutRL['SD'],mwithoutRL*withoutRL[\"SD\"]+bwithoutRL,color=\"y\")\n"
   ]
  },
  {
   "cell_type": "code",
   "execution_count": null,
   "id": "ea2e90e4",
   "metadata": {
    "scrolled": true
   },
   "outputs": [],
   "source": []
  },
  {
   "cell_type": "code",
   "execution_count": null,
   "id": "037fa531",
   "metadata": {},
   "outputs": [],
   "source": []
  },
  {
   "cell_type": "code",
   "execution_count": null,
   "id": "0c008282",
   "metadata": {
    "scrolled": true
   },
   "outputs": [],
   "source": []
  },
  {
   "cell_type": "code",
   "execution_count": null,
   "id": "750b1722",
   "metadata": {
    "scrolled": true
   },
   "outputs": [],
   "source": []
  },
  {
   "cell_type": "code",
   "execution_count": null,
   "id": "f702ca88",
   "metadata": {
    "scrolled": true
   },
   "outputs": [],
   "source": []
  },
  {
   "cell_type": "code",
   "execution_count": null,
   "id": "6925715c",
   "metadata": {},
   "outputs": [],
   "source": []
  },
  {
   "cell_type": "code",
   "execution_count": null,
   "id": "9171ef40",
   "metadata": {},
   "outputs": [],
   "source": []
  },
  {
   "cell_type": "code",
   "execution_count": null,
   "id": "40722278",
   "metadata": {},
   "outputs": [],
   "source": []
  },
  {
   "cell_type": "code",
   "execution_count": null,
   "id": "4eac34c3",
   "metadata": {},
   "outputs": [],
   "source": []
  },
  {
   "cell_type": "code",
   "execution_count": null,
   "id": "43507a8d",
   "metadata": {},
   "outputs": [],
   "source": []
  },
  {
   "cell_type": "code",
   "execution_count": null,
   "id": "792c1e98",
   "metadata": {},
   "outputs": [],
   "source": []
  },
  {
   "cell_type": "code",
   "execution_count": null,
   "id": "2ac14921",
   "metadata": {},
   "outputs": [],
   "source": []
  },
  {
   "cell_type": "code",
   "execution_count": null,
   "id": "ec776e41",
   "metadata": {},
   "outputs": [],
   "source": []
  },
  {
   "cell_type": "code",
   "execution_count": null,
   "id": "15611a1a",
   "metadata": {},
   "outputs": [],
   "source": []
  },
  {
   "cell_type": "code",
   "execution_count": null,
   "id": "e8b4e69c",
   "metadata": {},
   "outputs": [],
   "source": []
  },
  {
   "cell_type": "code",
   "execution_count": null,
   "id": "3041cfe4",
   "metadata": {},
   "outputs": [],
   "source": []
  },
  {
   "cell_type": "code",
   "execution_count": null,
   "id": "dd1dfa6e",
   "metadata": {},
   "outputs": [],
   "source": []
  },
  {
   "cell_type": "code",
   "execution_count": null,
   "id": "45ce6be8",
   "metadata": {},
   "outputs": [],
   "source": []
  },
  {
   "cell_type": "code",
   "execution_count": null,
   "id": "fd1a9511",
   "metadata": {},
   "outputs": [],
   "source": []
  },
  {
   "cell_type": "code",
   "execution_count": null,
   "id": "70c08725",
   "metadata": {},
   "outputs": [],
   "source": []
  },
  {
   "cell_type": "code",
   "execution_count": null,
   "id": "6e5fda11",
   "metadata": {},
   "outputs": [],
   "source": []
  }
 ],
 "metadata": {
  "kernelspec": {
   "display_name": "Python 3 (ipykernel)",
   "language": "python",
   "name": "python3"
  },
  "language_info": {
   "codemirror_mode": {
    "name": "ipython",
    "version": 3
   },
   "file_extension": ".py",
   "mimetype": "text/x-python",
   "name": "python",
   "nbconvert_exporter": "python",
   "pygments_lexer": "ipython3",
   "version": "3.10.8"
  }
 },
 "nbformat": 4,
 "nbformat_minor": 5
}
